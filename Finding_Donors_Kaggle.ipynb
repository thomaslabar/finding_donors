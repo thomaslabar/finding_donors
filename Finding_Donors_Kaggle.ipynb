{
 "cells": [
  {
   "cell_type": "markdown",
   "id": "920ca338",
   "metadata": {},
   "source": [
    "# Finding Donors (Kaggle version)"
   ]
  },
  {
   "cell_type": "markdown",
   "id": "58cb9102",
   "metadata": {},
   "source": [
    "This notebook details my work on the Kaggle competition for the \"Finding Donors\" project associated with Udacity's ML with PyTorch course. Many of the intial code was copied from the \"finding_donors\" notebook provided by the course for this assignment. \n",
    "\n",
    "This notebooks is structured as follows, mimicking how I performed my analysis:\n",
    "\n",
    "- I loaded in the relevant data and performed preprocessing steps on both the original and Kaggle-specific dataset, including the removal of NaN values.\n",
    "- Next, I designed and optimized a random forest model on the originial 'census.csv' dataset (with a 80/20 split for training/testing)\n",
    "- Then, I designed and optimized a gradient boosting model on the originial 'census.csv' dataset (with a 80/20 split for training/testing). I spent more effort on optimizing this model, due to the expectation that gradient boosting was a better method than random forests.\n",
    "- Finally, I ran my previously-trained model of this processed dataset and generated predictions, which were saved to a csv file for submission."
   ]
  },
  {
   "cell_type": "markdown",
   "id": "5159ce46",
   "metadata": {},
   "source": [
    "## Data processing"
   ]
  },
  {
   "cell_type": "code",
   "execution_count": 1,
   "id": "099a2236",
   "metadata": {},
   "outputs": [
    {
     "data": {
      "text/html": [
       "<div>\n",
       "<style scoped>\n",
       "    .dataframe tbody tr th:only-of-type {\n",
       "        vertical-align: middle;\n",
       "    }\n",
       "\n",
       "    .dataframe tbody tr th {\n",
       "        vertical-align: top;\n",
       "    }\n",
       "\n",
       "    .dataframe thead th {\n",
       "        text-align: right;\n",
       "    }\n",
       "</style>\n",
       "<table border=\"1\" class=\"dataframe\">\n",
       "  <thead>\n",
       "    <tr style=\"text-align: right;\">\n",
       "      <th></th>\n",
       "      <th>age</th>\n",
       "      <th>workclass</th>\n",
       "      <th>education_level</th>\n",
       "      <th>education-num</th>\n",
       "      <th>marital-status</th>\n",
       "      <th>occupation</th>\n",
       "      <th>relationship</th>\n",
       "      <th>race</th>\n",
       "      <th>sex</th>\n",
       "      <th>capital-gain</th>\n",
       "      <th>capital-loss</th>\n",
       "      <th>hours-per-week</th>\n",
       "      <th>native-country</th>\n",
       "      <th>income</th>\n",
       "    </tr>\n",
       "  </thead>\n",
       "  <tbody>\n",
       "    <tr>\n",
       "      <th>45212</th>\n",
       "      <td>48</td>\n",
       "      <td>Private</td>\n",
       "      <td>HS-grad</td>\n",
       "      <td>9.0</td>\n",
       "      <td>Married-civ-spouse</td>\n",
       "      <td>Adm-clerical</td>\n",
       "      <td>Husband</td>\n",
       "      <td>White</td>\n",
       "      <td>Male</td>\n",
       "      <td>0.0</td>\n",
       "      <td>0.0</td>\n",
       "      <td>40.0</td>\n",
       "      <td>United-States</td>\n",
       "      <td>&lt;=50K</td>\n",
       "    </tr>\n",
       "    <tr>\n",
       "      <th>45213</th>\n",
       "      <td>61</td>\n",
       "      <td>Private</td>\n",
       "      <td>HS-grad</td>\n",
       "      <td>9.0</td>\n",
       "      <td>Married-civ-spouse</td>\n",
       "      <td>Sales</td>\n",
       "      <td>Husband</td>\n",
       "      <td>White</td>\n",
       "      <td>Male</td>\n",
       "      <td>0.0</td>\n",
       "      <td>0.0</td>\n",
       "      <td>48.0</td>\n",
       "      <td>United-States</td>\n",
       "      <td>&lt;=50K</td>\n",
       "    </tr>\n",
       "    <tr>\n",
       "      <th>45214</th>\n",
       "      <td>31</td>\n",
       "      <td>Private</td>\n",
       "      <td>HS-grad</td>\n",
       "      <td>9.0</td>\n",
       "      <td>Married-civ-spouse</td>\n",
       "      <td>Craft-repair</td>\n",
       "      <td>Husband</td>\n",
       "      <td>White</td>\n",
       "      <td>Male</td>\n",
       "      <td>0.0</td>\n",
       "      <td>0.0</td>\n",
       "      <td>40.0</td>\n",
       "      <td>United-States</td>\n",
       "      <td>&lt;=50K</td>\n",
       "    </tr>\n",
       "    <tr>\n",
       "      <th>45215</th>\n",
       "      <td>25</td>\n",
       "      <td>Private</td>\n",
       "      <td>HS-grad</td>\n",
       "      <td>9.0</td>\n",
       "      <td>Never-married</td>\n",
       "      <td>Other-service</td>\n",
       "      <td>Own-child</td>\n",
       "      <td>White</td>\n",
       "      <td>Female</td>\n",
       "      <td>0.0</td>\n",
       "      <td>0.0</td>\n",
       "      <td>40.0</td>\n",
       "      <td>United-States</td>\n",
       "      <td>&lt;=50K</td>\n",
       "    </tr>\n",
       "    <tr>\n",
       "      <th>45216</th>\n",
       "      <td>48</td>\n",
       "      <td>Local-gov</td>\n",
       "      <td>Masters</td>\n",
       "      <td>14.0</td>\n",
       "      <td>Divorced</td>\n",
       "      <td>Other-service</td>\n",
       "      <td>Not-in-family</td>\n",
       "      <td>White</td>\n",
       "      <td>Male</td>\n",
       "      <td>0.0</td>\n",
       "      <td>0.0</td>\n",
       "      <td>40.0</td>\n",
       "      <td>United-States</td>\n",
       "      <td>&lt;=50K</td>\n",
       "    </tr>\n",
       "    <tr>\n",
       "      <th>45217</th>\n",
       "      <td>33</td>\n",
       "      <td>Private</td>\n",
       "      <td>Bachelors</td>\n",
       "      <td>13.0</td>\n",
       "      <td>Never-married</td>\n",
       "      <td>Prof-specialty</td>\n",
       "      <td>Own-child</td>\n",
       "      <td>White</td>\n",
       "      <td>Male</td>\n",
       "      <td>0.0</td>\n",
       "      <td>0.0</td>\n",
       "      <td>40.0</td>\n",
       "      <td>United-States</td>\n",
       "      <td>&lt;=50K</td>\n",
       "    </tr>\n",
       "    <tr>\n",
       "      <th>45218</th>\n",
       "      <td>39</td>\n",
       "      <td>Private</td>\n",
       "      <td>Bachelors</td>\n",
       "      <td>13.0</td>\n",
       "      <td>Divorced</td>\n",
       "      <td>Prof-specialty</td>\n",
       "      <td>Not-in-family</td>\n",
       "      <td>White</td>\n",
       "      <td>Female</td>\n",
       "      <td>0.0</td>\n",
       "      <td>0.0</td>\n",
       "      <td>36.0</td>\n",
       "      <td>United-States</td>\n",
       "      <td>&lt;=50K</td>\n",
       "    </tr>\n",
       "    <tr>\n",
       "      <th>45219</th>\n",
       "      <td>38</td>\n",
       "      <td>Private</td>\n",
       "      <td>Bachelors</td>\n",
       "      <td>13.0</td>\n",
       "      <td>Married-civ-spouse</td>\n",
       "      <td>Prof-specialty</td>\n",
       "      <td>Husband</td>\n",
       "      <td>White</td>\n",
       "      <td>Male</td>\n",
       "      <td>0.0</td>\n",
       "      <td>0.0</td>\n",
       "      <td>50.0</td>\n",
       "      <td>United-States</td>\n",
       "      <td>&lt;=50K</td>\n",
       "    </tr>\n",
       "    <tr>\n",
       "      <th>45220</th>\n",
       "      <td>44</td>\n",
       "      <td>Private</td>\n",
       "      <td>Bachelors</td>\n",
       "      <td>13.0</td>\n",
       "      <td>Divorced</td>\n",
       "      <td>Adm-clerical</td>\n",
       "      <td>Own-child</td>\n",
       "      <td>Asian-Pac-Islander</td>\n",
       "      <td>Male</td>\n",
       "      <td>5455.0</td>\n",
       "      <td>0.0</td>\n",
       "      <td>40.0</td>\n",
       "      <td>United-States</td>\n",
       "      <td>&lt;=50K</td>\n",
       "    </tr>\n",
       "    <tr>\n",
       "      <th>45221</th>\n",
       "      <td>35</td>\n",
       "      <td>Self-emp-inc</td>\n",
       "      <td>Bachelors</td>\n",
       "      <td>13.0</td>\n",
       "      <td>Married-civ-spouse</td>\n",
       "      <td>Exec-managerial</td>\n",
       "      <td>Husband</td>\n",
       "      <td>White</td>\n",
       "      <td>Male</td>\n",
       "      <td>0.0</td>\n",
       "      <td>0.0</td>\n",
       "      <td>60.0</td>\n",
       "      <td>United-States</td>\n",
       "      <td>&gt;50K</td>\n",
       "    </tr>\n",
       "  </tbody>\n",
       "</table>\n",
       "</div>"
      ],
      "text/plain": [
       "       age      workclass education_level  education-num       marital-status  \\\n",
       "45212   48        Private         HS-grad            9.0   Married-civ-spouse   \n",
       "45213   61        Private         HS-grad            9.0   Married-civ-spouse   \n",
       "45214   31        Private         HS-grad            9.0   Married-civ-spouse   \n",
       "45215   25        Private         HS-grad            9.0        Never-married   \n",
       "45216   48      Local-gov         Masters           14.0             Divorced   \n",
       "45217   33        Private       Bachelors           13.0        Never-married   \n",
       "45218   39        Private       Bachelors           13.0             Divorced   \n",
       "45219   38        Private       Bachelors           13.0   Married-civ-spouse   \n",
       "45220   44        Private       Bachelors           13.0             Divorced   \n",
       "45221   35   Self-emp-inc       Bachelors           13.0   Married-civ-spouse   \n",
       "\n",
       "             occupation    relationship                 race      sex  \\\n",
       "45212      Adm-clerical         Husband                White     Male   \n",
       "45213             Sales         Husband                White     Male   \n",
       "45214      Craft-repair         Husband                White     Male   \n",
       "45215     Other-service       Own-child                White   Female   \n",
       "45216     Other-service   Not-in-family                White     Male   \n",
       "45217    Prof-specialty       Own-child                White     Male   \n",
       "45218    Prof-specialty   Not-in-family                White   Female   \n",
       "45219    Prof-specialty         Husband                White     Male   \n",
       "45220      Adm-clerical       Own-child   Asian-Pac-Islander     Male   \n",
       "45221   Exec-managerial         Husband                White     Male   \n",
       "\n",
       "       capital-gain  capital-loss  hours-per-week  native-country income  \n",
       "45212           0.0           0.0            40.0   United-States  <=50K  \n",
       "45213           0.0           0.0            48.0   United-States  <=50K  \n",
       "45214           0.0           0.0            40.0   United-States  <=50K  \n",
       "45215           0.0           0.0            40.0   United-States  <=50K  \n",
       "45216           0.0           0.0            40.0   United-States  <=50K  \n",
       "45217           0.0           0.0            40.0   United-States  <=50K  \n",
       "45218           0.0           0.0            36.0   United-States  <=50K  \n",
       "45219           0.0           0.0            50.0   United-States  <=50K  \n",
       "45220        5455.0           0.0            40.0   United-States  <=50K  \n",
       "45221           0.0           0.0            60.0   United-States   >50K  "
      ]
     },
     "metadata": {},
     "output_type": "display_data"
    }
   ],
   "source": [
    "# Import libraries necessary for this project\n",
    "import numpy as np\n",
    "import pandas as pd\n",
    "import math\n",
    "from time import time\n",
    "from IPython.display import display # Allows the use of display() for DataFrames\n",
    "\n",
    "# Import supplementary visualization code visuals.py\n",
    "import visuals as vs\n",
    "\n",
    "# Pretty display for notebooks\n",
    "%matplotlib inline\n",
    "\n",
    "# Load the Census dataset and test dataset\n",
    "data = pd.read_csv(\"census.csv\")\n",
    "test_data = pd.read_csv(\"test_census.csv\")\n",
    "\n",
    "# Success - Display the last 20 records\n",
    "display(data.tail(n=10))"
   ]
  },
  {
   "cell_type": "code",
   "execution_count": 2,
   "id": "f354eca3",
   "metadata": {},
   "outputs": [
    {
     "name": "stdout",
     "output_type": "stream",
     "text": [
      "Total number of records: 45222\n",
      "Individuals making more than $50,000: 11208\n",
      "Individuals making at most $50,000: 34014\n",
      "Percentage of individuals making more than $50,000: 0.2478439697492371%\n"
     ]
    }
   ],
   "source": [
    "n_records = len(data)\n",
    "\n",
    "n_greater_50k = data.income.value_counts()['>50K']\n",
    "\n",
    "n_at_most_50k = data.income.value_counts()['<=50K']\n",
    "\n",
    "greater_percent = n_greater_50k/n_records\n",
    "\n",
    "# Print the results\n",
    "print(\"Total number of records: {}\".format(n_records))\n",
    "print(\"Individuals making more than $50,000: {}\".format(n_greater_50k))\n",
    "print(\"Individuals making at most $50,000: {}\".format(n_at_most_50k))\n",
    "print(\"Percentage of individuals making more than $50,000: {}%\".format(greater_percent))"
   ]
  },
  {
   "cell_type": "markdown",
   "id": "ddbe826c",
   "metadata": {},
   "source": [
    "### Data preprocessing\n",
    "\n",
    "Here, I follow the preprocessiing steps suggested by the course's notebook. First, I log-transform capital gains/losses data given their skewed diistributions. Then, scaled the continuous variables using a MinMaxScaler. Finally, I performed One-HOT encoding on all categorical variables."
   ]
  },
  {
   "cell_type": "code",
   "execution_count": 3,
   "id": "fe31d1fd",
   "metadata": {},
   "outputs": [
    {
     "name": "stderr",
     "output_type": "stream",
     "text": [
      "/Users/thomaslabar/Documents/Udacity_ML_with_PyTorch/finding_donors/visuals.py:48: UserWarning: Matplotlib is currently using module://matplotlib_inline.backend_inline, which is a non-GUI backend, so cannot show the figure.\n",
      "  fig.show()\n"
     ]
    },
    {
     "data": {
      "image/png": "[encoded data removed]",
      "text/plain": [
       "<Figure size 792x360 with 2 Axes>"
      ]
     },
     "metadata": {
      "needs_background": "light"
     },
     "output_type": "display_data"
    }
   ],
   "source": [
    "# Split the data into features and target label\n",
    "income_raw = data['income']\n",
    "features_raw = data.drop('income', axis = 1)\n",
    "\n",
    "# Visualize skewed continuous features of original data\n",
    "vs.distribution(data)"
   ]
  },
  {
   "cell_type": "code",
   "execution_count": 4,
   "id": "576d9d0f",
   "metadata": {},
   "outputs": [
    {
     "data": {
      "image/png": "[encoded data removed]",
      "text/plain": [
       "<Figure size 792x360 with 2 Axes>"
      ]
     },
     "metadata": {
      "needs_background": "light"
     },
     "output_type": "display_data"
    }
   ],
   "source": [
    "# Log-transform the skewed features\n",
    "skewed = ['capital-gain', 'capital-loss']\n",
    "features_log_transformed = pd.DataFrame(data = features_raw)\n",
    "features_log_transformed[skewed] = features_raw[skewed].apply(lambda x: np.log(x + 1))\n",
    "\n",
    "# Visualize the new log distributions\n",
    "vs.distribution(features_log_transformed, transformed = True)"
   ]
  },
  {
   "cell_type": "code",
   "execution_count": 5,
   "id": "70f04d1b",
   "metadata": {},
   "outputs": [
    {
     "data": {
      "text/html": [
       "<div>\n",
       "<style scoped>\n",
       "    .dataframe tbody tr th:only-of-type {\n",
       "        vertical-align: middle;\n",
       "    }\n",
       "\n",
       "    .dataframe tbody tr th {\n",
       "        vertical-align: top;\n",
       "    }\n",
       "\n",
       "    .dataframe thead th {\n",
       "        text-align: right;\n",
       "    }\n",
       "</style>\n",
       "<table border=\"1\" class=\"dataframe\">\n",
       "  <thead>\n",
       "    <tr style=\"text-align: right;\">\n",
       "      <th></th>\n",
       "      <th>age</th>\n",
       "      <th>workclass</th>\n",
       "      <th>education_level</th>\n",
       "      <th>education-num</th>\n",
       "      <th>marital-status</th>\n",
       "      <th>occupation</th>\n",
       "      <th>relationship</th>\n",
       "      <th>race</th>\n",
       "      <th>sex</th>\n",
       "      <th>capital-gain</th>\n",
       "      <th>capital-loss</th>\n",
       "      <th>hours-per-week</th>\n",
       "      <th>native-country</th>\n",
       "    </tr>\n",
       "  </thead>\n",
       "  <tbody>\n",
       "    <tr>\n",
       "      <th>0</th>\n",
       "      <td>0.301370</td>\n",
       "      <td>State-gov</td>\n",
       "      <td>Bachelors</td>\n",
       "      <td>0.800000</td>\n",
       "      <td>Never-married</td>\n",
       "      <td>Adm-clerical</td>\n",
       "      <td>Not-in-family</td>\n",
       "      <td>White</td>\n",
       "      <td>Male</td>\n",
       "      <td>0.667492</td>\n",
       "      <td>0.0</td>\n",
       "      <td>0.397959</td>\n",
       "      <td>United-States</td>\n",
       "    </tr>\n",
       "    <tr>\n",
       "      <th>1</th>\n",
       "      <td>0.452055</td>\n",
       "      <td>Self-emp-not-inc</td>\n",
       "      <td>Bachelors</td>\n",
       "      <td>0.800000</td>\n",
       "      <td>Married-civ-spouse</td>\n",
       "      <td>Exec-managerial</td>\n",
       "      <td>Husband</td>\n",
       "      <td>White</td>\n",
       "      <td>Male</td>\n",
       "      <td>0.000000</td>\n",
       "      <td>0.0</td>\n",
       "      <td>0.122449</td>\n",
       "      <td>United-States</td>\n",
       "    </tr>\n",
       "    <tr>\n",
       "      <th>2</th>\n",
       "      <td>0.287671</td>\n",
       "      <td>Private</td>\n",
       "      <td>HS-grad</td>\n",
       "      <td>0.533333</td>\n",
       "      <td>Divorced</td>\n",
       "      <td>Handlers-cleaners</td>\n",
       "      <td>Not-in-family</td>\n",
       "      <td>White</td>\n",
       "      <td>Male</td>\n",
       "      <td>0.000000</td>\n",
       "      <td>0.0</td>\n",
       "      <td>0.397959</td>\n",
       "      <td>United-States</td>\n",
       "    </tr>\n",
       "    <tr>\n",
       "      <th>3</th>\n",
       "      <td>0.493151</td>\n",
       "      <td>Private</td>\n",
       "      <td>11th</td>\n",
       "      <td>0.400000</td>\n",
       "      <td>Married-civ-spouse</td>\n",
       "      <td>Handlers-cleaners</td>\n",
       "      <td>Husband</td>\n",
       "      <td>Black</td>\n",
       "      <td>Male</td>\n",
       "      <td>0.000000</td>\n",
       "      <td>0.0</td>\n",
       "      <td>0.397959</td>\n",
       "      <td>United-States</td>\n",
       "    </tr>\n",
       "    <tr>\n",
       "      <th>4</th>\n",
       "      <td>0.150685</td>\n",
       "      <td>Private</td>\n",
       "      <td>Bachelors</td>\n",
       "      <td>0.800000</td>\n",
       "      <td>Married-civ-spouse</td>\n",
       "      <td>Prof-specialty</td>\n",
       "      <td>Wife</td>\n",
       "      <td>Black</td>\n",
       "      <td>Female</td>\n",
       "      <td>0.000000</td>\n",
       "      <td>0.0</td>\n",
       "      <td>0.397959</td>\n",
       "      <td>Cuba</td>\n",
       "    </tr>\n",
       "  </tbody>\n",
       "</table>\n",
       "</div>"
      ],
      "text/plain": [
       "        age          workclass education_level  education-num  \\\n",
       "0  0.301370          State-gov       Bachelors       0.800000   \n",
       "1  0.452055   Self-emp-not-inc       Bachelors       0.800000   \n",
       "2  0.287671            Private         HS-grad       0.533333   \n",
       "3  0.493151            Private            11th       0.400000   \n",
       "4  0.150685            Private       Bachelors       0.800000   \n",
       "\n",
       "        marital-status          occupation    relationship    race      sex  \\\n",
       "0        Never-married        Adm-clerical   Not-in-family   White     Male   \n",
       "1   Married-civ-spouse     Exec-managerial         Husband   White     Male   \n",
       "2             Divorced   Handlers-cleaners   Not-in-family   White     Male   \n",
       "3   Married-civ-spouse   Handlers-cleaners         Husband   Black     Male   \n",
       "4   Married-civ-spouse      Prof-specialty            Wife   Black   Female   \n",
       "\n",
       "   capital-gain  capital-loss  hours-per-week  native-country  \n",
       "0      0.667492           0.0        0.397959   United-States  \n",
       "1      0.000000           0.0        0.122449   United-States  \n",
       "2      0.000000           0.0        0.397959   United-States  \n",
       "3      0.000000           0.0        0.397959   United-States  \n",
       "4      0.000000           0.0        0.397959            Cuba  "
      ]
     },
     "metadata": {},
     "output_type": "display_data"
    }
   ],
   "source": [
    "# Import sklearn.preprocessing.StandardScaler\n",
    "from sklearn.preprocessing import MinMaxScaler\n",
    "\n",
    "# Initialize a scaler, then apply it to the features\n",
    "scaler = MinMaxScaler() # default=(0, 1)\n",
    "numerical = ['age', 'education-num', 'capital-gain', 'capital-loss', 'hours-per-week']\n",
    "\n",
    "features_log_minmax_transform = pd.DataFrame(data = features_log_transformed)\n",
    "features_log_minmax_transform[numerical] = scaler.fit_transform(features_log_transformed[numerical])\n",
    "\n",
    "# Show an example of a record with scaling applied\n",
    "display(features_log_minmax_transform.head(n = 5))"
   ]
  },
  {
   "cell_type": "code",
   "execution_count": 6,
   "id": "db4bd358",
   "metadata": {},
   "outputs": [
    {
     "name": "stdout",
     "output_type": "stream",
     "text": [
      "103 total features after one-hot encoding.\n",
      "['age', 'education-num', 'capital-gain', 'capital-loss', 'hours-per-week', 'workclass_ Federal-gov', 'workclass_ Local-gov', 'workclass_ Private', 'workclass_ Self-emp-inc', 'workclass_ Self-emp-not-inc', 'workclass_ State-gov', 'workclass_ Without-pay', 'education_level_ 10th', 'education_level_ 11th', 'education_level_ 12th', 'education_level_ 1st-4th', 'education_level_ 5th-6th', 'education_level_ 7th-8th', 'education_level_ 9th', 'education_level_ Assoc-acdm', 'education_level_ Assoc-voc', 'education_level_ Bachelors', 'education_level_ Doctorate', 'education_level_ HS-grad', 'education_level_ Masters', 'education_level_ Preschool', 'education_level_ Prof-school', 'education_level_ Some-college', 'marital-status_ Divorced', 'marital-status_ Married-AF-spouse', 'marital-status_ Married-civ-spouse', 'marital-status_ Married-spouse-absent', 'marital-status_ Never-married', 'marital-status_ Separated', 'marital-status_ Widowed', 'occupation_ Adm-clerical', 'occupation_ Armed-Forces', 'occupation_ Craft-repair', 'occupation_ Exec-managerial', 'occupation_ Farming-fishing', 'occupation_ Handlers-cleaners', 'occupation_ Machine-op-inspct', 'occupation_ Other-service', 'occupation_ Priv-house-serv', 'occupation_ Prof-specialty', 'occupation_ Protective-serv', 'occupation_ Sales', 'occupation_ Tech-support', 'occupation_ Transport-moving', 'relationship_ Husband', 'relationship_ Not-in-family', 'relationship_ Other-relative', 'relationship_ Own-child', 'relationship_ Unmarried', 'relationship_ Wife', 'race_ Amer-Indian-Eskimo', 'race_ Asian-Pac-Islander', 'race_ Black', 'race_ Other', 'race_ White', 'sex_ Female', 'sex_ Male', 'native-country_ Cambodia', 'native-country_ Canada', 'native-country_ China', 'native-country_ Columbia', 'native-country_ Cuba', 'native-country_ Dominican-Republic', 'native-country_ Ecuador', 'native-country_ El-Salvador', 'native-country_ England', 'native-country_ France', 'native-country_ Germany', 'native-country_ Greece', 'native-country_ Guatemala', 'native-country_ Haiti', 'native-country_ Holand-Netherlands', 'native-country_ Honduras', 'native-country_ Hong', 'native-country_ Hungary', 'native-country_ India', 'native-country_ Iran', 'native-country_ Ireland', 'native-country_ Italy', 'native-country_ Jamaica', 'native-country_ Japan', 'native-country_ Laos', 'native-country_ Mexico', 'native-country_ Nicaragua', 'native-country_ Outlying-US(Guam-USVI-etc)', 'native-country_ Peru', 'native-country_ Philippines', 'native-country_ Poland', 'native-country_ Portugal', 'native-country_ Puerto-Rico', 'native-country_ Scotland', 'native-country_ South', 'native-country_ Taiwan', 'native-country_ Thailand', 'native-country_ Trinadad&Tobago', 'native-country_ United-States', 'native-country_ Vietnam', 'native-country_ Yugoslavia']\n"
     ]
    }
   ],
   "source": [
    "features_final = pd.get_dummies(features_log_minmax_transform)\n",
    "\n",
    "income = income_raw.map({\">50K\": 1, \"<=50K\": 0})\n",
    "\n",
    "# Print the number of features after one-hot encoding\n",
    "encoded = list(features_final.columns)\n",
    "print(\"{} total features after one-hot encoding.\".format(len(encoded)))\n",
    "\n",
    "# Uncomment the following line to see the encoded feature names\n",
    "print(encoded)"
   ]
  },
  {
   "cell_type": "markdown",
   "id": "9fd6cc0f",
   "metadata": {},
   "source": [
    "## Kaggle data preprocessing\n",
    "\n",
    "Here, I will perform preprocessing on the 'test_census.csv' dataset to be able to apply my model trained above. First, I will look at the columns which have NaN values."
   ]
  },
  {
   "cell_type": "code",
   "execution_count": 7,
   "id": "9811da52",
   "metadata": {},
   "outputs": [
    {
     "data": {
      "text/html": [
       "<div>\n",
       "<style scoped>\n",
       "    .dataframe tbody tr th:only-of-type {\n",
       "        vertical-align: middle;\n",
       "    }\n",
       "\n",
       "    .dataframe tbody tr th {\n",
       "        vertical-align: top;\n",
       "    }\n",
       "\n",
       "    .dataframe thead th {\n",
       "        text-align: right;\n",
       "    }\n",
       "</style>\n",
       "<table border=\"1\" class=\"dataframe\">\n",
       "  <thead>\n",
       "    <tr style=\"text-align: right;\">\n",
       "      <th></th>\n",
       "      <th>Unnamed: 0</th>\n",
       "      <th>age</th>\n",
       "      <th>workclass</th>\n",
       "      <th>education_level</th>\n",
       "      <th>education-num</th>\n",
       "      <th>marital-status</th>\n",
       "      <th>occupation</th>\n",
       "      <th>relationship</th>\n",
       "      <th>race</th>\n",
       "      <th>sex</th>\n",
       "      <th>capital-gain</th>\n",
       "      <th>capital-loss</th>\n",
       "      <th>hours-per-week</th>\n",
       "      <th>native-country</th>\n",
       "    </tr>\n",
       "  </thead>\n",
       "  <tbody>\n",
       "    <tr>\n",
       "      <th>45217</th>\n",
       "      <td>45217</td>\n",
       "      <td>17.0</td>\n",
       "      <td>Private</td>\n",
       "      <td>11th</td>\n",
       "      <td>7.0</td>\n",
       "      <td>Never-married</td>\n",
       "      <td>Other-service</td>\n",
       "      <td>Own-child</td>\n",
       "      <td>White</td>\n",
       "      <td>Male</td>\n",
       "      <td>0.0</td>\n",
       "      <td>0.0</td>\n",
       "      <td>15.0</td>\n",
       "      <td>United-States</td>\n",
       "    </tr>\n",
       "    <tr>\n",
       "      <th>45218</th>\n",
       "      <td>45218</td>\n",
       "      <td>50.0</td>\n",
       "      <td>Federal-gov</td>\n",
       "      <td>Some-college</td>\n",
       "      <td>10.0</td>\n",
       "      <td>Never-married</td>\n",
       "      <td>Adm-clerical</td>\n",
       "      <td>Not-in-family</td>\n",
       "      <td>White</td>\n",
       "      <td>Male</td>\n",
       "      <td>0.0</td>\n",
       "      <td>0.0</td>\n",
       "      <td>40.0</td>\n",
       "      <td>United-States</td>\n",
       "    </tr>\n",
       "    <tr>\n",
       "      <th>45219</th>\n",
       "      <td>45219</td>\n",
       "      <td>17.0</td>\n",
       "      <td>Self-emp-inc</td>\n",
       "      <td>12th</td>\n",
       "      <td>8.0</td>\n",
       "      <td>Never-married</td>\n",
       "      <td>Adm-clerical</td>\n",
       "      <td>Own-child</td>\n",
       "      <td>White</td>\n",
       "      <td>Female</td>\n",
       "      <td>0.0</td>\n",
       "      <td>0.0</td>\n",
       "      <td>16.0</td>\n",
       "      <td>United-States</td>\n",
       "    </tr>\n",
       "    <tr>\n",
       "      <th>45220</th>\n",
       "      <td>45220</td>\n",
       "      <td>38.0</td>\n",
       "      <td>Private</td>\n",
       "      <td>Bachelors</td>\n",
       "      <td>13.0</td>\n",
       "      <td>Married-civ-spouse</td>\n",
       "      <td>Prof-specialty</td>\n",
       "      <td>Husband</td>\n",
       "      <td>White</td>\n",
       "      <td>Male</td>\n",
       "      <td>7688.0</td>\n",
       "      <td>0.0</td>\n",
       "      <td>40.0</td>\n",
       "      <td>United-States</td>\n",
       "    </tr>\n",
       "    <tr>\n",
       "      <th>45221</th>\n",
       "      <td>45221</td>\n",
       "      <td>22.0</td>\n",
       "      <td>Private</td>\n",
       "      <td>Some-college</td>\n",
       "      <td>10.0</td>\n",
       "      <td>Never-married</td>\n",
       "      <td>Farming-fishing</td>\n",
       "      <td>Own-child</td>\n",
       "      <td>White</td>\n",
       "      <td>Male</td>\n",
       "      <td>0.0</td>\n",
       "      <td>0.0</td>\n",
       "      <td>10.0</td>\n",
       "      <td>United-States</td>\n",
       "    </tr>\n",
       "  </tbody>\n",
       "</table>\n",
       "</div>"
      ],
      "text/plain": [
       "       Unnamed: 0   age      workclass education_level  education-num  \\\n",
       "45217       45217  17.0        Private            11th            7.0   \n",
       "45218       45218  50.0    Federal-gov    Some-college           10.0   \n",
       "45219       45219  17.0   Self-emp-inc            12th            8.0   \n",
       "45220       45220  38.0        Private       Bachelors           13.0   \n",
       "45221       45221  22.0        Private    Some-college           10.0   \n",
       "\n",
       "            marital-status        occupation    relationship    race      sex  \\\n",
       "45217        Never-married     Other-service       Own-child   White     Male   \n",
       "45218        Never-married      Adm-clerical   Not-in-family   White     Male   \n",
       "45219        Never-married      Adm-clerical       Own-child   White   Female   \n",
       "45220   Married-civ-spouse    Prof-specialty         Husband   White     Male   \n",
       "45221        Never-married   Farming-fishing       Own-child   White     Male   \n",
       "\n",
       "       capital-gain  capital-loss  hours-per-week  native-country  \n",
       "45217           0.0           0.0            15.0   United-States  \n",
       "45218           0.0           0.0            40.0   United-States  \n",
       "45219           0.0           0.0            16.0   United-States  \n",
       "45220        7688.0           0.0            40.0   United-States  \n",
       "45221           0.0           0.0            10.0   United-States  "
      ]
     },
     "metadata": {},
     "output_type": "display_data"
    }
   ],
   "source": [
    "display(test_data.tail(n=5))"
   ]
  },
  {
   "cell_type": "code",
   "execution_count": 8,
   "id": "c12c673e",
   "metadata": {},
   "outputs": [],
   "source": [
    "test_data = test_data.drop('Unnamed: 0',axis = 1)"
   ]
  },
  {
   "cell_type": "code",
   "execution_count": 9,
   "id": "8cf4dada",
   "metadata": {},
   "outputs": [
    {
     "data": {
      "text/plain": [
       "age                True\n",
       "workclass          True\n",
       "education_level    True\n",
       "education-num      True\n",
       "marital-status     True\n",
       "occupation         True\n",
       "relationship       True\n",
       "race               True\n",
       "sex                True\n",
       "capital-gain       True\n",
       "capital-loss       True\n",
       "hours-per-week     True\n",
       "native-country     True\n",
       "dtype: bool"
      ]
     },
     "execution_count": 9,
     "metadata": {},
     "output_type": "execute_result"
    }
   ],
   "source": [
    "test_data.isna().any()"
   ]
  },
  {
   "cell_type": "code",
   "execution_count": 10,
   "id": "fcda1640",
   "metadata": {},
   "outputs": [
    {
     "name": "stdout",
     "output_type": "stream",
     "text": [
      "Num. NaN's: 230\n",
      "Percent Nan's: 0.0050860200787227455\n"
     ]
    }
   ],
   "source": [
    "print(\"Num. NaN's: \"+str(len(test_data[test_data.isna().any(axis=1)])))\n",
    "print(\"Percent Nan's: \"+str(len(test_data[test_data.isna().any(axis=1)])/len(test_data)))"
   ]
  },
  {
   "cell_type": "markdown",
   "id": "1ecefe07",
   "metadata": {},
   "source": [
    "### Correcting NaN values\n",
    "\n",
    "While less than 1% of rows have a NaN value, all columns have at least one. This means I need come up with a way to fix NaN entries for each column. Here, I will describe the process for each feature.\n"
   ]
  },
  {
   "cell_type": "markdown",
   "id": "c78e488e",
   "metadata": {},
   "source": [
    "#### capital-gain/capital loss\n",
    "\n",
    "Both these variables again showed skewed distributions, where 0 is the most common value, so I will set each NaN to 0 below."
   ]
  },
  {
   "cell_type": "code",
   "execution_count": 11,
   "id": "868de1ef",
   "metadata": {},
   "outputs": [
    {
     "name": "stderr",
     "output_type": "stream",
     "text": [
      "/Users/thomaslabar/Documents/Udacity_ML_with_PyTorch/finding_donors/visuals.py:48: UserWarning: Matplotlib is currently using module://matplotlib_inline.backend_inline, which is a non-GUI backend, so cannot show the figure.\n",
      "  fig.show()\n"
     ]
    },
    {
     "data": {
      "image/png": "[encoded data removed]",
      "text/plain": [
       "<Figure size 792x360 with 2 Axes>"
      ]
     },
     "metadata": {
      "needs_background": "light"
     },
     "output_type": "display_data"
    }
   ],
   "source": [
    "vs.distribution(test_data)"
   ]
  },
  {
   "cell_type": "markdown",
   "id": "6476aa0d",
   "metadata": {},
   "source": [
    "#### workclass/education_level/marital_status/occupation/relationship/race/sex/native-country\n",
    "\n",
    "For this categorical variables, I will add a new category to each one called \"Unknown.\" This new category will be added as a new feature once One-HOT encoding occurs after these corrections. Given the relative infrequency of individuals with any NaN values, I don't expect this to alter the results of anything, but it will allow the code to be run. It should be noted that some of these values could be inferred, like marital_status from relationship, but given the relative infrequency of these NaN values, I will not bother."
   ]
  },
  {
   "cell_type": "markdown",
   "id": "435e875b",
   "metadata": {},
   "source": [
    "#### education_num\n",
    "\n",
    "There is a 1:1 correspondance between education-level and education-num. Furthermore, there are no columns where both education-level and education-num are Nan. Therefore, I just need to convert each NaN in education-num to the correct education-level corresponding value."
   ]
  },
  {
   "cell_type": "code",
   "execution_count": 12,
   "id": "7c3165f0",
   "metadata": {},
   "outputs": [
    {
     "name": "stdout",
     "output_type": "stream",
     "text": [
      "        age   workclass education_level  education-num  \\\n",
      "7139   31.0     Private       Bachelors            NaN   \n",
      "9203   52.0     Private       Bachelors            NaN   \n",
      "12348  18.0     Private            10th            NaN   \n",
      "16871  20.0     Private    Some-college            NaN   \n",
      "17444  35.0     Private         HS-grad            NaN   \n",
      "19675  44.0   State-gov         Masters            NaN   \n",
      "21056  41.0     Private    Some-college            NaN   \n",
      "22117  32.0     Private         HS-grad            NaN   \n",
      "22472  40.0   Local-gov         HS-grad            NaN   \n",
      "31033  43.0   Local-gov         Masters            NaN   \n",
      "32790  47.0   State-gov         7th-8th            NaN   \n",
      "37553  35.0     Private         HS-grad            NaN   \n",
      "38175  19.0     Private         HS-grad            NaN   \n",
      "39611  26.0     Private    Some-college            NaN   \n",
      "\n",
      "               marital-status          occupation    relationship  \\\n",
      "7139       Married-civ-spouse     Exec-managerial         Husband   \n",
      "9203       Married-civ-spouse        Craft-repair         Husband   \n",
      "12348           Never-married     Farming-fishing       Own-child   \n",
      "16871           Never-married      Prof-specialty       Own-child   \n",
      "17444      Married-civ-spouse   Machine-op-inspct         Husband   \n",
      "19675      Married-civ-spouse     Exec-managerial         Husband   \n",
      "21056   Married-spouse-absent       Other-service       Unmarried   \n",
      "22117               Separated       Other-service       Own-child   \n",
      "22472           Never-married       Other-service       Own-child   \n",
      "31033               Separated      Prof-specialty       Unmarried   \n",
      "32790      Married-civ-spouse    Transport-moving         Husband   \n",
      "37553                Divorced     Exec-managerial       Unmarried   \n",
      "38175           Never-married        Craft-repair   Not-in-family   \n",
      "39611           Never-married        Craft-repair   Not-in-family   \n",
      "\n",
      "                      race      sex  capital-gain  capital-loss  \\\n",
      "7139                 Black     Male           0.0        1887.0   \n",
      "9203    Asian-Pac-Islander     Male           0.0           0.0   \n",
      "12348                White     Male           0.0           0.0   \n",
      "16871                White   Female           0.0           0.0   \n",
      "17444                White     Male           0.0           0.0   \n",
      "19675                White     Male           0.0           0.0   \n",
      "21056                White     Male           0.0           0.0   \n",
      "22117                White   Female           0.0           0.0   \n",
      "22472                White     Male           0.0           0.0   \n",
      "31033                Black   Female           0.0           0.0   \n",
      "32790                White     Male           0.0           0.0   \n",
      "37553                White   Female           0.0           0.0   \n",
      "38175                White     Male           0.0           0.0   \n",
      "39611                White     Male           0.0           0.0   \n",
      "\n",
      "       hours-per-week  native-country  \n",
      "7139             40.0   United-States  \n",
      "9203             40.0   United-States  \n",
      "12348            27.0   United-States  \n",
      "16871            15.0   United-States  \n",
      "17444            45.0   United-States  \n",
      "19675            40.0   United-States  \n",
      "21056            40.0   United-States  \n",
      "22117            37.0   United-States  \n",
      "22472            40.0   United-States  \n",
      "31033            37.0   United-States  \n",
      "32790            40.0   United-States  \n",
      "37553            55.0   United-States  \n",
      "38175            45.0   United-States  \n",
      "39611            40.0   United-States  \n"
     ]
    }
   ],
   "source": [
    "print(test_data[test_data['education-num'].isna()])"
   ]
  },
  {
   "cell_type": "markdown",
   "id": "4a4e4892",
   "metadata": {},
   "source": [
    "#### age/hours-per-week\n",
    "\n",
    "Both are these are continuous variables and can be replaced by either the mean or the median of the dataset's distribution. The mean and median for age is 38.55 and 37, respectively. Meanwhile the mean and median for hours-per-week is 40.94 and 40, respectively. Given that both these variables are integers, I will replace NaN values to 37 and 40, respectively."
   ]
  },
  {
   "cell_type": "code",
   "execution_count": 13,
   "id": "a1aeca4e",
   "metadata": {},
   "outputs": [
    {
     "name": "stdout",
     "output_type": "stream",
     "text": [
      "Age mean: 38.54998340891494\n",
      "Age median: 37.0\n",
      " \n",
      "hours-per-week mean: 40.939348359839855\n",
      "hours-per-week median: 40.0\n"
     ]
    }
   ],
   "source": [
    "print(\"Age mean: \"+str(np.mean([i for i in test_data.age if not math.isnan(i)])))\n",
    "print(\"Age median: \"+str(np.median([i for i in test_data.age if not math.isnan(i)])))\n",
    "print(\" \")\n",
    "print(\"hours-per-week mean: \"+str(np.mean([i for i in test_data[\"hours-per-week\"] if not math.isnan(i)])))\n",
    "print(\"hours-per-week median: \"+str(np.median([i for i in test_data[\"hours-per-week\"] if not math.isnan(i)])))"
   ]
  },
  {
   "cell_type": "markdown",
   "id": "a96cea03",
   "metadata": {},
   "source": [
    "#### Below I do all the preprocessing described above"
   ]
  },
  {
   "cell_type": "code",
   "execution_count": 14,
   "id": "aba88024",
   "metadata": {},
   "outputs": [],
   "source": [
    "test_data_corrected = pd.DataFrame(data = test_data)\n",
    "\n",
    "#capital-gain\n",
    "test_data_corrected['capital-gain'] = test_data_corrected['capital-gain'].replace(np.nan,0.0)\n",
    "\n",
    "#capital-loss\n",
    "test_data_corrected['capital-loss'] = test_data_corrected['capital-loss'].replace(np.nan,0.0)\n",
    "\n",
    "#workclass/education_level/marital_status/occupation/relationship/race/sex/native-country\n",
    "for feature in ['workclass','education_level','marital-status','occupation','relationship','race','sex','native-country']:\n",
    "    test_data_corrected[feature] = test_data_corrected[feature].replace(np.nan,'Unknown')\n",
    "    \n",
    "#age\n",
    "median_age = np.median([i for i in test_data['age'] if not math.isnan(i)])\n",
    "test_data_corrected['age'] = test_data_corrected['age'].replace(np.nan,median_age)\n",
    "\n",
    "#hours-per-week\n",
    "median_hours = np.median([i for i in test_data['hours-per-week'] if not math.isnan(i)])\n",
    "test_data_corrected['hours-per-week'] = test_data_corrected['hours-per-week'].replace(np.nan,median_hours)\n",
    "\n",
    "#education_num (a really hacky solution based on there being a small number of rows that need changing)\n",
    "level_num_dict = {' Bachelors':13.0,\n",
    "                  \" 10th\":6.0,\n",
    "                  \" Some-college\":10.0,\n",
    "                  \" HS-grad\":9.0,\n",
    "                  \" Masters\":14.0,\n",
    "                  \" 7th-8th\":4.0}\n",
    "\n",
    "for r in [7139,9203,12348,16871,17444,19675,21056,22117,22472,31033,32790,37553,38175,39611]:\n",
    "    education_level = test_data_corrected.at[r,'education_level']\n",
    "    new_value = level_num_dict[education_level]\n",
    "    test_data_corrected.loc[test_data_corrected.index == r, 'education-num'] = new_value\n"
   ]
  },
  {
   "cell_type": "code",
   "execution_count": 15,
   "id": "2ad5e44d",
   "metadata": {},
   "outputs": [
    {
     "data": {
      "text/plain": [
       "age                False\n",
       "workclass          False\n",
       "education_level    False\n",
       "education-num      False\n",
       "marital-status     False\n",
       "occupation         False\n",
       "relationship       False\n",
       "race               False\n",
       "sex                False\n",
       "capital-gain       False\n",
       "capital-loss       False\n",
       "hours-per-week     False\n",
       "native-country     False\n",
       "dtype: bool"
      ]
     },
     "execution_count": 15,
     "metadata": {},
     "output_type": "execute_result"
    }
   ],
   "source": [
    "test_data_corrected.isna().any()"
   ]
  },
  {
   "cell_type": "markdown",
   "id": "e39b8d32",
   "metadata": {},
   "source": [
    "### Further preprocessing\n",
    "\n",
    "Now that all NaN values have been removed, I can perform the rest of the preprocessing steps I performed above for the traning dataset."
   ]
  },
  {
   "cell_type": "code",
   "execution_count": 16,
   "id": "fa1bd6bb",
   "metadata": {},
   "outputs": [
    {
     "name": "stderr",
     "output_type": "stream",
     "text": [
      "/Users/thomaslabar/Documents/Udacity_ML_with_PyTorch/finding_donors/visuals.py:48: UserWarning: Matplotlib is currently using module://matplotlib_inline.backend_inline, which is a non-GUI backend, so cannot show the figure.\n",
      "  fig.show()\n"
     ]
    },
    {
     "data": {
      "image/png": "[encoded data removed]",
      "text/plain": [
       "<Figure size 792x360 with 2 Axes>"
      ]
     },
     "metadata": {
      "needs_background": "light"
     },
     "output_type": "display_data"
    }
   ],
   "source": [
    "# Log-transform the skewed features\n",
    "skewed = ['capital-gain', 'capital-loss']\n",
    "test_features_log_transformed = pd.DataFrame(data = test_data_corrected)\n",
    "test_features_log_transformed[skewed] = test_data_corrected[skewed].apply(lambda x: np.log(x + 1))\n",
    "\n",
    "# Visualize the new log distributions\n",
    "vs.distribution(test_features_log_transformed, transformed = True)"
   ]
  },
  {
   "cell_type": "code",
   "execution_count": 17,
   "id": "d8791009",
   "metadata": {},
   "outputs": [],
   "source": [
    "# Initialize a scaler, then apply it to the features\n",
    "scaler = MinMaxScaler() # default=(0, 1)\n",
    "numerical = ['age', 'education-num', 'capital-gain', 'capital-loss', 'hours-per-week']\n",
    "\n",
    "test_features_log_minmax_transform = pd.DataFrame(data = test_features_log_transformed)\n",
    "test_features_log_minmax_transform[numerical] = scaler.fit_transform(test_features_log_transformed[numerical])\n"
   ]
  },
  {
   "cell_type": "code",
   "execution_count": 18,
   "id": "221947a6",
   "metadata": {},
   "outputs": [
    {
     "name": "stdout",
     "output_type": "stream",
     "text": [
      "111 total features after one-hot encoding.\n",
      "['age', 'education-num', 'capital-gain', 'capital-loss', 'hours-per-week', 'workclass_ Federal-gov', 'workclass_ Local-gov', 'workclass_ Private', 'workclass_ Self-emp-inc', 'workclass_ Self-emp-not-inc', 'workclass_ State-gov', 'workclass_ Without-pay', 'workclass_Unknown', 'education_level_ 10th', 'education_level_ 11th', 'education_level_ 12th', 'education_level_ 1st-4th', 'education_level_ 5th-6th', 'education_level_ 7th-8th', 'education_level_ 9th', 'education_level_ Assoc-acdm', 'education_level_ Assoc-voc', 'education_level_ Bachelors', 'education_level_ Doctorate', 'education_level_ HS-grad', 'education_level_ Masters', 'education_level_ Preschool', 'education_level_ Prof-school', 'education_level_ Some-college', 'education_level_Unknown', 'marital-status_ Divorced', 'marital-status_ Married-AF-spouse', 'marital-status_ Married-civ-spouse', 'marital-status_ Married-spouse-absent', 'marital-status_ Never-married', 'marital-status_ Separated', 'marital-status_ Widowed', 'marital-status_Unknown', 'occupation_ Adm-clerical', 'occupation_ Armed-Forces', 'occupation_ Craft-repair', 'occupation_ Exec-managerial', 'occupation_ Farming-fishing', 'occupation_ Handlers-cleaners', 'occupation_ Machine-op-inspct', 'occupation_ Other-service', 'occupation_ Priv-house-serv', 'occupation_ Prof-specialty', 'occupation_ Protective-serv', 'occupation_ Sales', 'occupation_ Tech-support', 'occupation_ Transport-moving', 'occupation_Unknown', 'relationship_ Husband', 'relationship_ Not-in-family', 'relationship_ Other-relative', 'relationship_ Own-child', 'relationship_ Unmarried', 'relationship_ Wife', 'relationship_Unknown', 'race_ Amer-Indian-Eskimo', 'race_ Asian-Pac-Islander', 'race_ Black', 'race_ Other', 'race_ White', 'race_Unknown', 'sex_ Female', 'sex_ Male', 'sex_Unknown', 'native-country_ Cambodia', 'native-country_ Canada', 'native-country_ China', 'native-country_ Columbia', 'native-country_ Cuba', 'native-country_ Dominican-Republic', 'native-country_ Ecuador', 'native-country_ El-Salvador', 'native-country_ England', 'native-country_ France', 'native-country_ Germany', 'native-country_ Greece', 'native-country_ Guatemala', 'native-country_ Haiti', 'native-country_ Holand-Netherlands', 'native-country_ Honduras', 'native-country_ Hong', 'native-country_ Hungary', 'native-country_ India', 'native-country_ Iran', 'native-country_ Ireland', 'native-country_ Italy', 'native-country_ Jamaica', 'native-country_ Japan', 'native-country_ Laos', 'native-country_ Mexico', 'native-country_ Nicaragua', 'native-country_ Outlying-US(Guam-USVI-etc)', 'native-country_ Peru', 'native-country_ Philippines', 'native-country_ Poland', 'native-country_ Portugal', 'native-country_ Puerto-Rico', 'native-country_ Scotland', 'native-country_ South', 'native-country_ Taiwan', 'native-country_ Thailand', 'native-country_ Trinadad&Tobago', 'native-country_ United-States', 'native-country_ Vietnam', 'native-country_ Yugoslavia', 'native-country_Unknown']\n"
     ]
    }
   ],
   "source": [
    "test_features_final = pd.get_dummies(test_features_log_minmax_transform)\n",
    "\n",
    "# Print the number of features after one-hot encoding\n",
    "test_encoded = list(test_features_final.columns)\n",
    "print(\"{} total features after one-hot encoding.\".format(len(test_encoded)))\n",
    "\n",
    "# Uncomment the following line to see the encoded feature names\n",
    "print(test_encoded)"
   ]
  },
  {
   "cell_type": "markdown",
   "id": "a7bff4c9",
   "metadata": {},
   "source": [
    "#### Adding new features to training dataset\n",
    "\n",
    "In order for my model to work on both datasets, I now will add the feature columns for the \"Unknown\" categories created during One-HOT encoding of the test dataset to the training dataset. I will do this by setting the value to 0 for all rows. Note: I forgot to do this originally and had to re-order my procedure here. Note2: The order of the columns must be the same in both cases."
   ]
  },
  {
   "cell_type": "code",
   "execution_count": 31,
   "id": "726fa9b2",
   "metadata": {},
   "outputs": [],
   "source": [
    "new_columns = ['workclass_Unknown','education_level_Unknown','marital-status_Unknown','occupation_Unknown',\n",
    "               'relationship_Unknown','race_Unknown','sex_Unknown','native-country_Unknown']\n",
    "\n",
    "for nc in new_columns:\n",
    "    features_final[nc] = [0 for i in range(len(features_final))]\n",
    "\n",
    "features_final = features_final[test_features_final.columns]"
   ]
  },
  {
   "cell_type": "code",
   "execution_count": 32,
   "id": "310c9af1",
   "metadata": {},
   "outputs": [
    {
     "name": "stdout",
     "output_type": "stream",
     "text": [
      "111 total features after one-hot encoding.\n",
      "['age', 'education-num', 'capital-gain', 'capital-loss', 'hours-per-week', 'workclass_ Federal-gov', 'workclass_ Local-gov', 'workclass_ Private', 'workclass_ Self-emp-inc', 'workclass_ Self-emp-not-inc', 'workclass_ State-gov', 'workclass_ Without-pay', 'workclass_Unknown', 'education_level_ 10th', 'education_level_ 11th', 'education_level_ 12th', 'education_level_ 1st-4th', 'education_level_ 5th-6th', 'education_level_ 7th-8th', 'education_level_ 9th', 'education_level_ Assoc-acdm', 'education_level_ Assoc-voc', 'education_level_ Bachelors', 'education_level_ Doctorate', 'education_level_ HS-grad', 'education_level_ Masters', 'education_level_ Preschool', 'education_level_ Prof-school', 'education_level_ Some-college', 'education_level_Unknown', 'marital-status_ Divorced', 'marital-status_ Married-AF-spouse', 'marital-status_ Married-civ-spouse', 'marital-status_ Married-spouse-absent', 'marital-status_ Never-married', 'marital-status_ Separated', 'marital-status_ Widowed', 'marital-status_Unknown', 'occupation_ Adm-clerical', 'occupation_ Armed-Forces', 'occupation_ Craft-repair', 'occupation_ Exec-managerial', 'occupation_ Farming-fishing', 'occupation_ Handlers-cleaners', 'occupation_ Machine-op-inspct', 'occupation_ Other-service', 'occupation_ Priv-house-serv', 'occupation_ Prof-specialty', 'occupation_ Protective-serv', 'occupation_ Sales', 'occupation_ Tech-support', 'occupation_ Transport-moving', 'occupation_Unknown', 'relationship_ Husband', 'relationship_ Not-in-family', 'relationship_ Other-relative', 'relationship_ Own-child', 'relationship_ Unmarried', 'relationship_ Wife', 'relationship_Unknown', 'race_ Amer-Indian-Eskimo', 'race_ Asian-Pac-Islander', 'race_ Black', 'race_ Other', 'race_ White', 'race_Unknown', 'sex_ Female', 'sex_ Male', 'sex_Unknown', 'native-country_ Cambodia', 'native-country_ Canada', 'native-country_ China', 'native-country_ Columbia', 'native-country_ Cuba', 'native-country_ Dominican-Republic', 'native-country_ Ecuador', 'native-country_ El-Salvador', 'native-country_ England', 'native-country_ France', 'native-country_ Germany', 'native-country_ Greece', 'native-country_ Guatemala', 'native-country_ Haiti', 'native-country_ Holand-Netherlands', 'native-country_ Honduras', 'native-country_ Hong', 'native-country_ Hungary', 'native-country_ India', 'native-country_ Iran', 'native-country_ Ireland', 'native-country_ Italy', 'native-country_ Jamaica', 'native-country_ Japan', 'native-country_ Laos', 'native-country_ Mexico', 'native-country_ Nicaragua', 'native-country_ Outlying-US(Guam-USVI-etc)', 'native-country_ Peru', 'native-country_ Philippines', 'native-country_ Poland', 'native-country_ Portugal', 'native-country_ Puerto-Rico', 'native-country_ Scotland', 'native-country_ South', 'native-country_ Taiwan', 'native-country_ Thailand', 'native-country_ Trinadad&Tobago', 'native-country_ United-States', 'native-country_ Vietnam', 'native-country_ Yugoslavia', 'native-country_Unknown']\n"
     ]
    }
   ],
   "source": [
    "# Print the number of features after one-hot encoding\n",
    "encoded = list(features_final.columns)\n",
    "print(\"{} total features after one-hot encoding.\".format(len(encoded)))\n",
    "\n",
    "# Uncomment the following line to see the encoded feature names\n",
    "print(encoded)"
   ]
  },
  {
   "cell_type": "markdown",
   "id": "4d6d6132",
   "metadata": {},
   "source": [
    "## Training the model"
   ]
  },
  {
   "cell_type": "markdown",
   "id": "6d9ddff8",
   "metadata": {},
   "source": [
    "### Spliting initial dataset into training and testing data\n",
    "\n",
    "Before training my model, I performed the same training/testing split done in the original notebook"
   ]
  },
  {
   "cell_type": "code",
   "execution_count": 21,
   "id": "bb560e9e",
   "metadata": {},
   "outputs": [
    {
     "name": "stdout",
     "output_type": "stream",
     "text": [
      "Training set has 36177 samples.\n",
      "Testing set has 9045 samples.\n"
     ]
    }
   ],
   "source": [
    "# Import train_test_split\n",
    "from sklearn.model_selection import train_test_split\n",
    "\n",
    "# Split the 'features' and 'income' data into training and testing sets\n",
    "X_train, X_test, y_train, y_test = train_test_split(features_final, \n",
    "                                                    income, \n",
    "                                                    test_size = 0.2, \n",
    "                                                    random_state = 42)\n",
    "\n",
    "# Show the results of the split\n",
    "print(\"Training set has {} samples.\".format(X_train.shape[0]))\n",
    "print(\"Testing set has {} samples.\".format(X_test.shape[0]))"
   ]
  },
  {
   "cell_type": "markdown",
   "id": "1749dc2f",
   "metadata": {},
   "source": [
    "### Training the model: Random Forest\n",
    "\n",
    "The first model I decided to train was a Random Forest model. I trained both an unoptimized model and performed GridSearch to try to optimize the model. I used roc_auc_score as my scorer, as that is the metric the Kaggle competition is based on. I did not attempt to fully optimize this model, both due to lack of knowledge of the best procedure and learning that there was a greater chance that gradient boosting would be better performing."
   ]
  },
  {
   "cell_type": "code",
   "execution_count": 22,
   "id": "aea38fab",
   "metadata": {},
   "outputs": [
    {
     "name": "stdout",
     "output_type": "stream",
     "text": [
      "Unoptimized model\n",
      "------\n",
      "Accuracy score on testing data: 0.8430\n",
      "ROC-AUC-Score on testing data: 0.7741\n",
      "\n",
      "Optimized Model\n",
      "------\n",
      "Final Accuracy score on the testing data: 0.8642\n",
      "Final ROC-AUC-Score on the testing data: 0.7883\n"
     ]
    }
   ],
   "source": [
    "\n",
    "#from sklearn.metrics import fbeta_score\n",
    "from sklearn.metrics import accuracy_score\n",
    "#from sklearn.metrics import roc_curve\n",
    "from sklearn.metrics import roc_auc_score\n",
    "from sklearn.ensemble import RandomForestClassifier\n",
    "from sklearn.model_selection import GridSearchCV\n",
    "from sklearn.metrics import make_scorer\n",
    "\n",
    "# Initialize the classifier\n",
    "clf_rf = RandomForestClassifier(random_state = 42)\n",
    "\n",
    "# Create the parameters list you wish to tune, using a dictionary if needed.\n",
    "# HINT: parameters = {'parameter_1': [value1, value2], 'parameter_2': [value1, value2]}\n",
    "parameters_rf = {'n_estimators':[160,320,480],\n",
    "             'min_samples_split':[16,32,64],\n",
    "             'min_samples_leaf':[1,2]}\n",
    "\n",
    "# Make an fbeta_score scoring object using make_scorer()\n",
    "#scorer = make_scorer(fbeta_score, beta=0.5)\n",
    "scorer = make_scorer(roc_auc_score)\n",
    "\n",
    "# Perform grid search on the classifier using 'scorer' as the scoring method using GridSearchCV()\n",
    "grid_obj_rf = GridSearchCV(clf_rf,param_grid = parameters_rf, scoring = scorer)\n",
    "\n",
    "# Fit the grid search object to the training data and find the optimal parameters using fit()\n",
    "grid_fit_rf = grid_obj_rf.fit(X_train, y_train)\n",
    "\n",
    "# Get the estimator\n",
    "best_clf_rf = grid_fit_rf.best_estimator_\n",
    "\n",
    "# Make predictions using the unoptimized and model\n",
    "predictions_rf = (clf_rf.fit(X_train, y_train)).predict(X_test)\n",
    "best_predictions_rf = best_clf_rf.predict(X_test)\n",
    "\n",
    "# Report the before-and-afterscores\n",
    "print(\"Unoptimized model\\n------\")\n",
    "print(\"Accuracy score on testing data: {:.4f}\".format(accuracy_score(y_test, predictions_rf)))\n",
    "print(\"ROC-AUC-Score on testing data: {:.4f}\".format(roc_auc_score(y_test, predictions_rf)))\n",
    "print(\"\\nOptimized Model\\n------\")\n",
    "print(\"Final Accuracy score on the testing data: {:.4f}\".format(accuracy_score(y_test, best_predictions_rf)))\n",
    "print(\"Final ROC-AUC-Score on the testing data: {:.4f}\".format(roc_auc_score(y_test, best_predictions_rf)))"
   ]
  },
  {
   "cell_type": "code",
   "execution_count": 23,
   "id": "b818b15f",
   "metadata": {},
   "outputs": [
    {
     "data": {
      "text/plain": [
       "RandomForestClassifier(min_samples_split=32, n_estimators=320, random_state=42)"
      ]
     },
     "execution_count": 23,
     "metadata": {},
     "output_type": "execute_result"
    }
   ],
   "source": [
    "best_clf_rf"
   ]
  },
  {
   "cell_type": "markdown",
   "id": "38285c2a",
   "metadata": {},
   "source": [
    "### Random Forest Conclusions\n",
    "\n",
    "After optimization, I was able to improve the performance of the model's ROC-AUC from 0.7741 to 0.7883, which was a significant improvement, but I can probably do better."
   ]
  },
  {
   "cell_type": "markdown",
   "id": "4b72ca62",
   "metadata": {},
   "source": [
    "### Training the model: Gradient Boosting\n",
    "\n",
    "Next, I decided to train and optimize a gradient boosting model. I used a procedure detailed in [this blog post](https://www.analyticsvidhya.com/blog/2016/02/complete-guide-parameter-tuning-gradient-boosting-gbm-python/). Here are the steps I took (it should be noted that only the final product remains in this notebook):\n",
    "\n",
    "1. Explore N_estimators from 20 to 80, chaning learning rate until I got one around 50/60 (l_r = 1.05)\n",
    "2. Fixing these values, explored max_depth = {1,5,10,15} and min_samples_split = {1,5,10,50,100,500,1000}\n",
    "3. Further explored max_depth in {2,10} and min_samples_split = {500,1000,1500,2000}\n",
    "4. Further explored max_depth in {2,10} and min_samples_split = {2000,3000,4000,5000}.\n",
    "5. Set max_depth = 8 and min_samples_split = 4000\n",
    "6. Explored min_samples_leaf in {30,70,10}\n",
    "7. Picked min_samples_leaf = 40\n",
    "8. Explore max_features in {7,20,2}\n",
    "9. Explore max_features in {19,39,2}\n",
    "10. Pick max_features = 23\n",
    "11. Explore subsample in {0.5,0.55,0.6,0.7,0.75,0.8,0.85,0.9,0.95,1.0}\n",
    "12. Keep subsample at default\n",
    "13. Vary n_estimators/learning_rate in proportion: (120,0.52), (240,0.26), (360,0.26), (500,0.26).\n",
    "14. (240,0.26) seemed the best"
   ]
  },
  {
   "cell_type": "code",
   "execution_count": 24,
   "id": "33ef2311",
   "metadata": {},
   "outputs": [
    {
     "name": "stdout",
     "output_type": "stream",
     "text": [
      "Base model\n",
      "------\n",
      "Accuracy score on testing data: 0.8638\n",
      "ROC-AUC-Score on testing data: 0.7805\n",
      "\n",
      "Unoptimized model\n",
      "------\n",
      "Accuracy score on testing data: 0.8733\n",
      "ROC-AUC-Score on testing data: 0.8053\n",
      "\n",
      "Optimized Model\n",
      "------\n",
      "Final Accuracy score on the testing data: 0.8733\n",
      "Final ROC-AUC-Score on the testing data: 0.8053\n"
     ]
    }
   ],
   "source": [
    "from sklearn.ensemble import GradientBoostingClassifier\n",
    "# Initialize the classifier\n",
    "base_clf_gb = GradientBoostingClassifier(random_state = 42)\n",
    "\n",
    "clf_gb = GradientBoostingClassifier(n_estimators = 240, learning_rate = 0.26 ,max_depth = 8, min_samples_split = 4000,\n",
    "                                    min_samples_leaf = 40, max_features = 23,random_state = 42)\n",
    "\n",
    "# Create the parameters list you wish to tune, using a dictionary if needed.\n",
    "# HINT: parameters = {'parameter_1': [value1, value2], 'parameter_2': [value1, value2]}\n",
    "parameters_gb = {}\n",
    "\n",
    "# Make an fbeta_score scoring object using make_scorer()\n",
    "#scorer = make_scorer(fbeta_score, beta=0.5)\n",
    "scorer = make_scorer(roc_auc_score)\n",
    "\n",
    "# Perform grid search on the classifier using 'scorer' as the scoring method using GridSearchCV()\n",
    "grid_obj_gb = GridSearchCV(clf_gb,param_grid = parameters_gb, scoring = scorer)\n",
    "\n",
    "# Fit the grid search object to the training data and find the optimal parameters using fit()\n",
    "grid_fit_gb = grid_obj_gb.fit(X_train, y_train)\n",
    "\n",
    "# Get the estimator\n",
    "best_clf_gb = grid_fit_gb.best_estimator_\n",
    "\n",
    "# Make predictions using the unoptimized and model\n",
    "base_predictions_gb = (base_clf_gb.fit(X_train, y_train)).predict(X_test)\n",
    "predictions_gb = (clf_gb.fit(X_train, y_train)).predict(X_test)\n",
    "best_predictions_gb = best_clf_gb.predict(X_test)\n",
    "\n",
    "# Report the before-and-afterscores\n",
    "print(\"Base model\\n------\")\n",
    "print(\"Accuracy score on testing data: {:.4f}\".format(accuracy_score(y_test, base_predictions_gb)))\n",
    "print(\"ROC-AUC-Score on testing data: {:.4f}\".format(roc_auc_score(y_test, base_predictions_gb)))\n",
    "print(\"\\nUnoptimized model\\n------\")\n",
    "print(\"Accuracy score on testing data: {:.4f}\".format(accuracy_score(y_test, predictions_gb)))\n",
    "print(\"ROC-AUC-Score on testing data: {:.4f}\".format(roc_auc_score(y_test, predictions_gb)))\n",
    "print(\"\\nOptimized Model\\n------\")\n",
    "print(\"Final Accuracy score on the testing data: {:.4f}\".format(accuracy_score(y_test, best_predictions_gb)))\n",
    "print(\"Final ROC-AUC-Score on the testing data: {:.4f}\".format(roc_auc_score(y_test, best_predictions_gb)))"
   ]
  },
  {
   "cell_type": "code",
   "execution_count": 25,
   "id": "60359a3d",
   "metadata": {},
   "outputs": [
    {
     "data": {
      "text/plain": [
       "GradientBoostingClassifier(learning_rate=0.26, max_depth=8, max_features=23,\n",
       "                           min_samples_leaf=40, min_samples_split=4000,\n",
       "                           n_estimators=240, random_state=42)"
      ]
     },
     "execution_count": 25,
     "metadata": {},
     "output_type": "execute_result"
    }
   ],
   "source": [
    "best_clf_gb"
   ]
  },
  {
   "cell_type": "code",
   "execution_count": 26,
   "id": "40848b82",
   "metadata": {},
   "outputs": [
    {
     "data": {
      "image/png": "[encoded data removed]",
      "text/plain": [
       "<Figure size 648x360 with 1 Axes>"
      ]
     },
     "metadata": {
      "needs_background": "light"
     },
     "output_type": "display_data"
    }
   ],
   "source": [
    "importances = base_clf_gb.feature_importances_\n",
    "vs.feature_plot(importances, X_train, y_train)"
   ]
  },
  {
   "cell_type": "code",
   "execution_count": 27,
   "id": "2c33faee",
   "metadata": {},
   "outputs": [
    {
     "data": {
      "image/png": "[encoded data removed]",
      "text/plain": [
       "<Figure size 648x360 with 1 Axes>"
      ]
     },
     "metadata": {
      "needs_background": "light"
     },
     "output_type": "display_data"
    }
   ],
   "source": [
    "importances = best_clf_gb.feature_importances_\n",
    "vs.feature_plot(importances, X_train, y_train)"
   ]
  },
  {
   "cell_type": "markdown",
   "id": "a727e480",
   "metadata": {},
   "source": [
    "### Gradient Boosting Conclusions\n",
    "\n",
    "After optimizing, I was able to improve model performance from 0.7805 to 0.8053, which was a significant improvement both on the base model and on the random forest model. However, I was disappointed in the relative lack of improvement, and thought it would do better."
   ]
  },
  {
   "cell_type": "markdown",
   "id": "56c30268",
   "metadata": {},
   "source": [
    "## Testing the model\n",
    "\n",
    "Now, I can apply this trained model to the 'test_census.csv' dataset (after my corrections were performed, of course)"
   ]
  },
  {
   "cell_type": "code",
   "execution_count": 28,
   "id": "79a2c18b",
   "metadata": {},
   "outputs": [
    {
     "name": "stderr",
     "output_type": "stream",
     "text": [
      "/Users/thomaslabar/anaconda2/envs/DSProjects/lib/python3.8/site-packages/sklearn/base.py:488: FutureWarning: The feature names should match those that were passed during fit. Starting version 1.2, an error will be raised.\n",
      "Feature names must be in the same order as they were in fit.\n",
      "\n",
      "  warnings.warn(message, FutureWarning)\n"
     ]
    }
   ],
   "source": [
    "test_predictions = best_clf_gb.predict(test_features_final)"
   ]
  },
  {
   "cell_type": "markdown",
   "id": "401658fc",
   "metadata": {},
   "source": [
    "## Saving the model\n",
    "\n",
    "Create dataframe from predictions save it to a csv for submission"
   ]
  },
  {
   "cell_type": "code",
   "execution_count": 45,
   "id": "82209da1",
   "metadata": {},
   "outputs": [],
   "source": [
    "submission_df = pd.DataFrame(data = {\"id\":range(len(test_predictions)),\n",
    "                                     \"income\":test_predictions})"
   ]
  },
  {
   "cell_type": "code",
   "execution_count": 46,
   "id": "0384cd45",
   "metadata": {},
   "outputs": [
    {
     "data": {
      "text/html": [
       "<div>\n",
       "<style scoped>\n",
       "    .dataframe tbody tr th:only-of-type {\n",
       "        vertical-align: middle;\n",
       "    }\n",
       "\n",
       "    .dataframe tbody tr th {\n",
       "        vertical-align: top;\n",
       "    }\n",
       "\n",
       "    .dataframe thead th {\n",
       "        text-align: right;\n",
       "    }\n",
       "</style>\n",
       "<table border=\"1\" class=\"dataframe\">\n",
       "  <thead>\n",
       "    <tr style=\"text-align: right;\">\n",
       "      <th></th>\n",
       "      <th>id</th>\n",
       "      <th>income</th>\n",
       "    </tr>\n",
       "  </thead>\n",
       "  <tbody>\n",
       "    <tr>\n",
       "      <th>0</th>\n",
       "      <td>0</td>\n",
       "      <td>0</td>\n",
       "    </tr>\n",
       "    <tr>\n",
       "      <th>1</th>\n",
       "      <td>1</td>\n",
       "      <td>0</td>\n",
       "    </tr>\n",
       "    <tr>\n",
       "      <th>2</th>\n",
       "      <td>2</td>\n",
       "      <td>0</td>\n",
       "    </tr>\n",
       "    <tr>\n",
       "      <th>3</th>\n",
       "      <td>3</td>\n",
       "      <td>1</td>\n",
       "    </tr>\n",
       "    <tr>\n",
       "      <th>4</th>\n",
       "      <td>4</td>\n",
       "      <td>0</td>\n",
       "    </tr>\n",
       "    <tr>\n",
       "      <th>...</th>\n",
       "      <td>...</td>\n",
       "      <td>...</td>\n",
       "    </tr>\n",
       "    <tr>\n",
       "      <th>45217</th>\n",
       "      <td>45217</td>\n",
       "      <td>0</td>\n",
       "    </tr>\n",
       "    <tr>\n",
       "      <th>45218</th>\n",
       "      <td>45218</td>\n",
       "      <td>0</td>\n",
       "    </tr>\n",
       "    <tr>\n",
       "      <th>45219</th>\n",
       "      <td>45219</td>\n",
       "      <td>0</td>\n",
       "    </tr>\n",
       "    <tr>\n",
       "      <th>45220</th>\n",
       "      <td>45220</td>\n",
       "      <td>1</td>\n",
       "    </tr>\n",
       "    <tr>\n",
       "      <th>45221</th>\n",
       "      <td>45221</td>\n",
       "      <td>0</td>\n",
       "    </tr>\n",
       "  </tbody>\n",
       "</table>\n",
       "<p>45222 rows × 2 columns</p>\n",
       "</div>"
      ],
      "text/plain": [
       "          id  income\n",
       "0          0       0\n",
       "1          1       0\n",
       "2          2       0\n",
       "3          3       1\n",
       "4          4       0\n",
       "...      ...     ...\n",
       "45217  45217       0\n",
       "45218  45218       0\n",
       "45219  45219       0\n",
       "45220  45220       1\n",
       "45221  45221       0\n",
       "\n",
       "[45222 rows x 2 columns]"
      ]
     },
     "execution_count": 46,
     "metadata": {},
     "output_type": "execute_result"
    }
   ],
   "source": [
    "submission_df"
   ]
  },
  {
   "cell_type": "code",
   "execution_count": 49,
   "id": "8b748602",
   "metadata": {},
   "outputs": [
    {
     "name": "stdout",
     "output_type": "stream",
     "text": [
      "Total number of records: 45222\n",
      "Individuals making more than $50,000: 3790\n",
      "Individuals making at most $50,000: 41432\n",
      "Percentage of individuals making more than $50,000: 0.08380876564504003%\n"
     ]
    }
   ],
   "source": [
    "n_records = len(submission_df)\n",
    "\n",
    "n_greater_50k = submission_df.income.value_counts()[1]\n",
    "\n",
    "n_at_most_50k = submission_df.income.value_counts()[0]\n",
    "\n",
    "greater_percent = n_greater_50k/n_records\n",
    "\n",
    "# Print the results\n",
    "print(\"Total number of records: {}\".format(n_records))\n",
    "print(\"Individuals making more than $50,000: {}\".format(n_greater_50k))\n",
    "print(\"Individuals making at most $50,000: {}\".format(n_at_most_50k))\n",
    "print(\"Percentage of individuals making more than $50,000: {}%\".format(greater_percent))"
   ]
  },
  {
   "cell_type": "code",
   "execution_count": 47,
   "id": "313473dc",
   "metadata": {},
   "outputs": [],
   "source": [
    "submission_df.to_csv(\"submission_1.csv\", index = False)"
   ]
  },
  {
   "cell_type": "code",
   "execution_count": null,
   "id": "262d50c5",
   "metadata": {},
   "outputs": [],
   "source": []
  }
 ],
 "metadata": {
  "@webio": {
   "lastCommId": "2506090cea5843ae8a26de51b73ff59c",
   "lastKernelId": "cafa8cb2-3a19-438b-9c92-af88907f31d7"
  },
  "kernelspec": {
   "display_name": "Python [conda env:DSProjects] *",
   "language": "python",
   "name": "conda-env-DSProjects-py"
  },
  "language_info": {
   "codemirror_mode": {
    "name": "ipython",
    "version": 3
   },
   "file_extension": ".py",
   "mimetype": "text/x-python",
   "name": "python",
   "nbconvert_exporter": "python",
   "pygments_lexer": "ipython3",
   "version": "3.8.12"
  }
 },
 "nbformat": 4,
 "nbformat_minor": 5
}
